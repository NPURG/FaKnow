{
 "cells": [
  {
   "cell_type": "code",
   "execution_count": 1,
   "metadata": {
    "collapsed": true
   },
   "outputs": [
    {
     "name": "stderr",
     "output_type": "stream",
     "text": [
      "d:\\dev\\anaconda3\\envs\\torch_cpu\\lib\\site-packages\\tqdm\\auto.py:22: TqdmWarning: IProgress not found. Please update jupyter and ipywidgets. See https://ipywidgets.readthedocs.io/en/stable/user_install.html\n",
      "  from .autonotebook import tqdm as notebook_tqdm\n"
     ]
    }
   ],
   "source": [
    "import torch\n",
    "import torch.nn as nn\n",
    "import torchvision\n",
    "from torchvision import transforms\n",
    "from torch.utils import data"
   ]
  },
  {
   "cell_type": "code",
   "execution_count": 7,
   "metadata": {
    "collapsed": false
   },
   "outputs": [],
   "source": [
    "net = nn.Sequential(nn.Flatten(),\n",
    "                    nn.Linear(784, 256),\n",
    "                    nn.ReLU(),\n",
    "                    nn.Linear(256, 10))"
   ]
  },
  {
   "cell_type": "code",
   "execution_count": 2,
   "metadata": {},
   "outputs": [],
   "source": [
    "batch_size, lr, epochs = 256, 0.1, 10"
   ]
  },
  {
   "cell_type": "code",
   "execution_count": 5,
   "metadata": {},
   "outputs": [],
   "source": [
    "criterion = nn.CrossEntropyLoss(reduction=None)"
   ]
  },
  {
   "cell_type": "code",
   "execution_count": 3,
   "metadata": {},
   "outputs": [],
   "source": [
    "trans = transforms.ToTensor()\n",
    "mnist_train = torchvision.datasets.FashionMNIST(\n",
    "    root=\"../mydata\", train=True, transform=trans, download=True)\n",
    "mnist_test = torchvision.datasets.FashionMNIST(\n",
    "    root=\"../mydata\", train=False, transform=trans, download=True)"
   ]
  },
  {
   "cell_type": "code",
   "execution_count": 4,
   "metadata": {},
   "outputs": [],
   "source": [
    "train_iter = data.DataLoader(mnist_train, batch_size, shuffle=True)\n",
    "test_iter = data.DataLoader(mnist_test, batch_size, shuffle=False)"
   ]
  },
  {
   "cell_type": "code",
   "execution_count": 8,
   "metadata": {},
   "outputs": [],
   "source": [
    "res = [(net(X), y) for X, y in train_iter]"
   ]
  },
  {
   "cell_type": "code",
   "execution_count": 37,
   "metadata": {},
   "outputs": [
    {
     "name": "stdout",
     "output_type": "stream",
     "text": [
      "tensor([[-0.0172, -0.1390, -0.0038,  ...,  0.0056,  0.1393, -0.1045],\n",
      "        [-0.0758, -0.0598,  0.0460,  ...,  0.0699,  0.1548,  0.0751],\n",
      "        [ 0.0254, -0.0659, -0.0644,  ...,  0.0035,  0.1304, -0.1124],\n",
      "        ...,\n",
      "        [-0.0258, -0.1586,  0.1876,  ...,  0.0951,  0.0152,  0.0198],\n",
      "        [-0.2097, -0.0152,  0.0391,  ...,  0.1437,  0.2652,  0.0164],\n",
      "        [-0.0595, -0.0971,  0.1420,  ...,  0.0356,  0.0658,  0.0156]],\n",
      "       grad_fn=<AddmmBackward0>) 256\n"
     ]
    }
   ],
   "source": [
    "for outputs, y in res:\n",
    "    print(outputs, y.shape[0])\n",
    "    break"
   ]
  },
  {
   "cell_type": "code",
   "execution_count": 14,
   "metadata": {},
   "outputs": [
    {
     "name": "stdout",
     "output_type": "stream",
     "text": [
      "torch.Size([256, 10])\n",
      "torch.Size([256, 10])\n",
      "torch.Size([256, 10])\n",
      "torch.Size([256, 10])\n",
      "torch.Size([256, 10])\n",
      "torch.Size([256, 10])\n",
      "torch.Size([256, 10])\n",
      "torch.Size([256, 10])\n",
      "torch.Size([256, 10])\n",
      "torch.Size([256, 10])\n",
      "torch.Size([256, 10])\n",
      "torch.Size([256, 10])\n",
      "torch.Size([256, 10])\n",
      "torch.Size([256, 10])\n",
      "torch.Size([256, 10])\n",
      "torch.Size([256, 10])\n",
      "torch.Size([256, 10])\n",
      "torch.Size([256, 10])\n",
      "torch.Size([256, 10])\n",
      "torch.Size([256, 10])\n",
      "torch.Size([256, 10])\n",
      "torch.Size([256, 10])\n",
      "torch.Size([256, 10])\n",
      "torch.Size([256, 10])\n",
      "torch.Size([256, 10])\n",
      "torch.Size([256, 10])\n",
      "torch.Size([256, 10])\n",
      "torch.Size([256, 10])\n",
      "torch.Size([256, 10])\n",
      "torch.Size([256, 10])\n",
      "torch.Size([256, 10])\n",
      "torch.Size([256, 10])\n",
      "torch.Size([256, 10])\n",
      "torch.Size([256, 10])\n",
      "torch.Size([256, 10])\n",
      "torch.Size([256, 10])\n",
      "torch.Size([256, 10])\n",
      "torch.Size([256, 10])\n",
      "torch.Size([256, 10])\n",
      "torch.Size([16, 10])\n"
     ]
    }
   ],
   "source": [
    "outputs = []\n",
    "Y = []\n",
    "for X, y in test_iter:\n",
    "    # for x in X:\n",
    "    #     print(x.shape)\n",
    "    output = net(X)\n",
    "    outputs.append(output)\n",
    "    print(output.shape)\n",
    "    Y.append(y)\n",
    "    # break"
   ]
  },
  {
   "cell_type": "code",
   "execution_count": 43,
   "metadata": {},
   "outputs": [],
   "source": [
    "new_outputs = torch.concat(outputs)"
   ]
  },
  {
   "cell_type": "code",
   "execution_count": 42,
   "metadata": {},
   "outputs": [],
   "source": [
    "new_Y = torch.concat(Y)"
   ]
  },
  {
   "cell_type": "code",
   "execution_count": 46,
   "metadata": {},
   "outputs": [
    {
     "data": {
      "text/plain": [
       "tensor(0.0291)"
      ]
     },
     "execution_count": 46,
     "metadata": {},
     "output_type": "execute_result"
    }
   ],
   "source": [
    "torch.sum(new_outputs.argmax(dim=1) == new_Y) / new_Y.shape[0]"
   ]
  },
  {
   "cell_type": "code",
   "execution_count": 38,
   "metadata": {},
   "outputs": [],
   "source": [
    "zip_data = tuple(zip(torch.concat(outputs), torch.concat(Y)))"
   ]
  },
  {
   "cell_type": "code",
   "execution_count": 40,
   "metadata": {},
   "outputs": [
    {
     "name": "stdout",
     "output_type": "stream",
     "text": [
      "tensor([-0.0247, -0.0041,  0.0811, -0.0551, -0.0524,  0.0121,  0.0898,  0.0439,\n",
      "         0.0565, -0.0940], grad_fn=<UnbindBackward0>) tensor(9)\n"
     ]
    }
   ],
   "source": [
    "for o, y in zip_data:\n",
    "    print(o, y)\n",
    "    break"
   ]
  },
  {
   "cell_type": "code",
   "execution_count": 27,
   "metadata": {},
   "outputs": [],
   "source": [
    "from itertools import chain\n",
    "chain_data = chain(torch.concat(outputs), torch.concat(Y))"
   ]
  },
  {
   "cell_type": "code",
   "execution_count": 29,
   "metadata": {},
   "outputs": [
    {
     "name": "stdout",
     "output_type": "stream",
     "text": [
      "<class 'torch.Tensor'>\n",
      "tensor([ 0.1147, -0.1640,  0.0676, -0.1565, -0.2467,  0.0928, -0.0969,  0.1913,\n",
      "         0.1091,  0.1223], grad_fn=<UnbindBackward0>)\n"
     ]
    }
   ],
   "source": [
    "for d in chain_data:\n",
    "    print(type(d))\n",
    "    print(d)\n",
    "    break"
   ]
  },
  {
   "cell_type": "code",
   "execution_count": 27,
   "metadata": {},
   "outputs": [
    {
     "name": "stdout",
     "output_type": "stream",
     "text": [
      "<class 'tuple'>\n",
      "torch.Size([1, 28, 28]) 9\n"
     ]
    }
   ],
   "source": [
    "for data in mnist_train:\n",
    "    print(type(data))\n",
    "    print(data[0].shape, data[1])\n",
    "    break"
   ]
  },
  {
   "cell_type": "code",
   "execution_count": 35,
   "metadata": {},
   "outputs": [
    {
     "name": "stdout",
     "output_type": "stream",
     "text": [
      "torch.Size([256, 1, 28, 28]) torch.Size([256])\n"
     ]
    }
   ],
   "source": [
    "for X, y in train_iter:\n",
    "    print(X.shape, y.shape)\n",
    "    break"
   ]
  },
  {
   "cell_type": "code",
   "execution_count": 24,
   "metadata": {},
   "outputs": [
    {
     "name": "stdout",
     "output_type": "stream",
     "text": [
      "0 torch.Size([256, 1, 28, 28]) torch.Size([256])\n"
     ]
    }
   ],
   "source": [
    "for batch_idx, (X, y) in enumerate(train_iter):\n",
    "    print(batch_idx, X.shape, y.shape)\n",
    "    break"
   ]
  },
  {
   "cell_type": "code",
   "execution_count": null,
   "metadata": {},
   "outputs": [],
   "source": [
    "optimer = torch.optim.SGD(net.parameters(), lr=lr)"
   ]
  },
  {
   "cell_type": "code",
   "execution_count": 47,
   "metadata": {},
   "outputs": [
    {
     "name": "stdout",
     "output_type": "stream",
     "text": [
      "mydict={'a': 10, 'b': 5}\n"
     ]
    }
   ],
   "source": [
    "my_dict = {'a': 10, 'b': 5}\n",
    "print(f'mydict={my_dict}')"
   ]
  }
 ],
 "metadata": {
  "kernelspec": {
   "display_name": "Python 3.8.13 ('torch_cpu')",
   "language": "python",
   "name": "python3"
  },
  "language_info": {
   "codemirror_mode": {
    "name": "ipython",
    "version": 3
   },
   "file_extension": ".py",
   "mimetype": "text/x-python",
   "name": "python",
   "nbconvert_exporter": "python",
   "pygments_lexer": "ipython3",
   "version": "3.8.13"
  },
  "vscode": {
   "interpreter": {
    "hash": "2486deee049125f1eb675a7924b646883db6116762c38a65674f18adfbabf287"
   }
  }
 },
 "nbformat": 4,
 "nbformat_minor": 0
}

{
 "cells": [
  {
   "cell_type": "code",
   "execution_count": 1,
   "metadata": {},
   "outputs": [
    {
     "name": "stderr",
     "output_type": "stream",
     "text": [
      "d:\\dev\\anaconda3\\envs\\torch_cpu\\lib\\site-packages\\tqdm\\auto.py:22: TqdmWarning: IProgress not found. Please update jupyter and ipywidgets. See https://ipywidgets.readthedocs.io/en/stable/user_install.html\n",
      "  from .autonotebook import tqdm as notebook_tqdm\n"
     ]
    }
   ],
   "source": [
    "import torch\n",
    "import torch.nn as nn\n",
    "import torchvision\n",
    "from torchvision import transforms\n",
    "from torch.utils import data"
   ]
  },
  {
   "cell_type": "code",
   "execution_count": 2,
   "metadata": {},
   "outputs": [],
   "source": [
    "net = nn.Sequential(nn.Flatten(),\n",
    "                    nn.Linear(784, 256),\n",
    "                    nn.ReLU(),\n",
    "                    nn.Linear(256, 10))"
   ]
  },
  {
   "cell_type": "code",
   "execution_count": 3,
   "metadata": {},
   "outputs": [],
   "source": [
    "batch_size, lr, epochs = 256, 0.1, 10"
   ]
  },
  {
   "cell_type": "code",
   "execution_count": 4,
   "metadata": {},
   "outputs": [],
   "source": [
    "criterion = nn.CrossEntropyLoss()"
   ]
  },
  {
   "cell_type": "code",
   "execution_count": 5,
   "metadata": {},
   "outputs": [],
   "source": [
    "optimer = torch.optim.SGD(net.parameters(), lr=lr)"
   ]
  },
  {
   "cell_type": "code",
   "execution_count": 6,
   "metadata": {},
   "outputs": [],
   "source": [
    "trans = transforms.ToTensor()\n",
    "mnist_train = torchvision.datasets.FashionMNIST(\n",
    "    root=\"F:\\code\\python\\FakeNewsDetection\\mydata\", train=True, transform=trans, download=True)\n",
    "mnist_test = torchvision.datasets.FashionMNIST(\n",
    "    root=\"F:\\code\\python\\FakeNewsDetection\\mydata\", train=False, transform=trans, download=True)"
   ]
  },
  {
   "cell_type": "code",
   "execution_count": 7,
   "metadata": {},
   "outputs": [],
   "source": [
    "from trainer.trainer import Trainer\n",
    "from evaluator.evaluator import Evaluator"
   ]
  },
  {
   "cell_type": "code",
   "execution_count": 8,
   "metadata": {},
   "outputs": [],
   "source": [
    "evaluator = Evaluator(['accuracy'])"
   ]
  },
  {
   "cell_type": "code",
   "execution_count": 9,
   "metadata": {},
   "outputs": [],
   "source": [
    "trainer = Trainer(net, evaluator, criterion, optimer)"
   ]
  },
  {
   "cell_type": "code",
   "execution_count": 10,
   "metadata": {},
   "outputs": [
    {
     "name": "stdout",
     "output_type": "stream",
     "text": [
      "----start training-----\n",
      "epoch=0, training_time=8.206233978271484s, training loss=0.6060568690299988\n",
      "validation result: {'accuracy': 0.7573999762535095}\n",
      "epoch=1, training_time=7.198764324188232s, training loss=0.5436466336250305\n",
      "validation result: {'accuracy': 0.7996000051498413}\n",
      "epoch=2, training_time=6.812420845031738s, training loss=0.49147021770477295\n",
      "validation result: {'accuracy': 0.8122000098228455}\n",
      "epoch=3, training_time=7.11357045173645s, training loss=0.6043400168418884\n",
      "validation result: {'accuracy': 0.7771999835968018}\n",
      "epoch=4, training_time=7.176221609115601s, training loss=0.5478381514549255\n",
      "validation result: {'accuracy': 0.8303999900817871}\n",
      "epoch=5, training_time=7.4056572914123535s, training loss=0.46102043986320496\n",
      "validation result: {'accuracy': 0.8151999711990356}\n",
      "epoch=6, training_time=6.8247411251068115s, training loss=0.5044583082199097\n",
      "validation result: {'accuracy': 0.843999981880188}\n",
      "epoch=7, training_time=7.587415456771851s, training loss=0.3829038143157959\n",
      "validation result: {'accuracy': 0.843500018119812}\n",
      "epoch=8, training_time=7.2095301151275635s, training loss=0.3375473916530609\n",
      "validation result: {'accuracy': 0.8468999862670898}\n",
      "epoch=9, training_time=8.005375146865845s, training loss=0.2841963768005371\n",
      "validation result: {'accuracy': 0.8529999852180481}\n"
     ]
    }
   ],
   "source": [
    "trainer.fit(mnist_train, mnist_test, batch_size, epochs)"
   ]
  }
 ],
 "metadata": {
  "kernelspec": {
   "display_name": "Python 3.8.13 ('torch_cpu')",
   "language": "python",
   "name": "python3"
  },
  "language_info": {
   "codemirror_mode": {
    "name": "ipython",
    "version": 3
   },
   "file_extension": ".py",
   "mimetype": "text/x-python",
   "name": "python",
   "nbconvert_exporter": "python",
   "pygments_lexer": "ipython3",
   "version": "3.8.13"
  },
  "orig_nbformat": 4,
  "vscode": {
   "interpreter": {
    "hash": "2486deee049125f1eb675a7924b646883db6116762c38a65674f18adfbabf287"
   }
  }
 },
 "nbformat": 4,
 "nbformat_minor": 2
}
